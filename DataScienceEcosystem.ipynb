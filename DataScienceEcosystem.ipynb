{
 "cells": [
  {
   "cell_type": "markdown",
   "id": "2250e2d4-2ca0-4607-a648-933752d64e2e",
   "metadata": {},
   "source": [
    "# Data Science Tools and Ecosystem"
   ]
  },
  {
   "cell_type": "markdown",
   "id": "7cd61237-6da3-4107-90de-279fd900b171",
   "metadata": {},
   "source": [
    "### In this notebook, Data Science Tools and Ecosystem are summarized.\n"
   ]
  },
  {
   "cell_type": "markdown",
   "id": "0784e316-9f27-48c0-9c51-48face24d9b9",
   "metadata": {},
   "source": [
    "**Objectives:**\n",
    "\n",
    "List of popular languages for Data Science\n",
    "\n",
    "* Python\n",
    "* R\n",
    "* Java\n",
    "* Scala\n",
    "* Julia"
   ]
  },
  {
   "cell_type": "markdown",
   "id": "ad0f449e-e385-47be-9439-939acab147c5",
   "metadata": {
    "jp-MarkdownHeadingCollapsed": true
   },
   "source": [
    "#### Some of the popular languages that Data Scientists use are:\n",
    "1. Python\n",
    "2. R\n",
    "3. Java\n",
    "4. Scala\n",
    "5. Julia"
   ]
  },
  {
   "cell_type": "markdown",
   "id": "c470cb5a-7cb6-46ec-89b4-9abd4ecdc56b",
   "metadata": {},
   "source": [
    "#### Some of the commonly used libraries used by Data Scientists include:\n",
    "1. Pandas\n",
    "2. Numpy\n",
    "3. Matplotlib\n",
    "4. Scikit-learn\n",
    "5. Plotly"
   ]
  },
  {
   "cell_type": "markdown",
   "id": "e33949aa-7f8a-43b7-816a-0ec4e833ae2f",
   "metadata": {},
   "source": [
    "| Data Science Tools |\n",
    "|--------------------|\n",
    "| Jupyter notebook |\n",
    "| RStudio |\n",
    "| VS Code|\n"
   ]
  },
  {
   "cell_type": "markdown",
   "id": "8fcd61ab-22b0-4b76-8bd3-3cb31c17bf5a",
   "metadata": {},
   "source": [
    "### Below are a few examples of evaluating arithmetic expressions in Python."
   ]
  },
  {
   "cell_type": "code",
   "execution_count": 1,
   "id": "37f4a12e-fe99-462d-8e4f-8f613354b17a",
   "metadata": {},
   "outputs": [
    {
     "data": {
      "text/plain": [
       "17"
      ]
     },
     "execution_count": 1,
     "metadata": {},
     "output_type": "execute_result"
    }
   ],
   "source": [
    "# This a simple arithmetic expression to mutiply then add integers\n",
    "(3*4)+5"
   ]
  },
  {
   "cell_type": "code",
   "execution_count": 2,
   "id": "f2ab6a87-a04c-45e5-b2f7-aadca5aa3b94",
   "metadata": {},
   "outputs": [
    {
     "data": {
      "text/plain": [
       "3.3333333333333335"
      ]
     },
     "execution_count": 2,
     "metadata": {},
     "output_type": "execute_result"
    }
   ],
   "source": [
    "# This will convert 200 minutes to hours by divding by 60\n",
    "200 / 60"
   ]
  },
  {
   "cell_type": "markdown",
   "id": "e6187a23-574c-4f2e-b132-64c8e4cb61d0",
   "metadata": {},
   "source": [
    "## Author\n",
    "Kohila B"
   ]
  },
  {
   "cell_type": "code",
   "execution_count": null,
   "id": "21ff1ba8-9e38-41b5-8a4b-c25699b12781",
   "metadata": {},
   "outputs": [],
   "source": []
  }
 ],
 "metadata": {
  "kernelspec": {
   "display_name": "Python 3 (ipykernel)",
   "language": "python",
   "name": "python3"
  },
  "language_info": {
   "codemirror_mode": {
    "name": "ipython",
    "version": 3
   },
   "file_extension": ".py",
   "mimetype": "text/x-python",
   "name": "python",
   "nbconvert_exporter": "python",
   "pygments_lexer": "ipython3",
   "version": "3.12.1"
  }
 },
 "nbformat": 4,
 "nbformat_minor": 5
}
